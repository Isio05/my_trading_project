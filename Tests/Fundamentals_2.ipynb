{
 "cells": [
  {
   "cell_type": "code",
   "execution_count": null,
   "metadata": {
    "collapsed": true
   },
   "outputs": [
    {
     "name": "stdout",
     "output_type": "stream",
     "text": [
      "Hello Jeff !\nHello Gary !\nHello Jill !\nHello Samantha !\n"
     ]
    }
   ],
   "source": [
    "names = ['Jeff', 'Gary', 'Jill', 'Samantha']\n",
    "\n",
    "for name in names:\n",
    "    print(' '.join(['Hello', name, '!']))"
   ]
  },
  {
   "cell_type": "code",
   "execution_count": 6,
   "metadata": {},
   "outputs": [
    {
     "name": "stdout",
     "output_type": "stream",
     "text": [
      "1,2\n2,4\n3,7\n4,6\n5,4\n6,2\n7,3\n8,6\n9,1\n10,3\n\n"
     ]
    }
   ],
   "source": [
    "import os\n",
    "\n",
    "files_path = \"C:\\\\Users\\\\Ireneusz Larysz\\\\Downloads\\\\Python\\\\Trading\\\\Tests\\\\\"\n",
    "file_name = \"testing_data.txt\"\n",
    "\n",
    "with open(os.path.join(files_path, file_name)) as file:\n",
    "    print(file.read())"
   ]
  },
  {
   "cell_type": "code",
   "execution_count": 10,
   "metadata": {},
   "outputs": [
    {
     "name": "stdout",
     "output_type": "stream",
     "text": [
      "[5, 10, 15, 20]\n5\n10\n15\n20\n"
     ]
    }
   ],
   "source": [
    "# List comprehension and generators\n",
    "def check_mod_5(i):\n",
    "    if i % 5 == 0:\n",
    "        return True\n",
    "    \n",
    "    \n",
    "list_comp = [x for x in [1,23,5,6,10,2,15,20,2,4,7,8] if check_mod_5(x) == True]\n",
    "generator = (x for x in [1,23,5,6,10,2,15,20,2,4,7,8] if check_mod_5(x) == True)\n",
    "\n",
    "print(list_comp)\n",
    "\n",
    "for x in generator:\n",
    "    print(x)"
   ]
  },
  {
   "cell_type": "code",
   "execution_count": 20,
   "metadata": {
    "collapsed": true
   },
   "outputs": [
    {
     "name": "stdout",
     "output_type": "stream",
     "text": [
      "[[(0, 0), (0, 1), (0, 2), (0, 3), (0, 4), (0, 5), (0, 6), (0, 7), (0, 8), (0, 9), (0, 10), (0, 11)], [(1, 0), (1, 1), (1, 2), (1, 3), (1, 4), (1, 5), (1, 6), (1, 7), (1, 8), (1, 9), (1, 10), (1, 11)], [(2, 0), (2, 1), (2, 2), (2, 3), (2, 4), (2, 5), (2, 6), (2, 7), (2, 8), (2, 9), (2, 10), (2, 11)], [(3, 0), (3, 1), (3, 2), (3, 3), (3, 4), (3, 5), (3, 6), (3, 7), (3, 8), (3, 9), (3, 10), (3, 11)], [(4, 0), (4, 1), (4, 2), (4, 3), (4, 4), (4, 5), (4, 6), (4, 7), (4, 8), (4, 9), (4, 10), (4, 11)]]\n[[(0, 0), (0, 1), (0, 2), (0, 3), (0, 4), (0, 5), (0, 6), (0, 7), (0, 8), (0, 9), (0, 10), (0, 11)], [(1, 0), (1, 1), (1, 2), (1, 3), (1, 4), (1, 5), (1, 6), (1, 7), (1, 8), (1, 9), (1, 10), (1, 11)], [(2, 0), (2, 1), (2, 2), (2, 3), (2, 4), (2, 5), (2, 6), (2, 7), (2, 8), (2, 9), (2, 10), (2, 11)], [(3, 0), (3, 1), (3, 2), (3, 3), (3, 4), (3, 5), (3, 6), (3, 7), (3, 8), (3, 9), (3, 10), (3, 11)], [(4, 0), (4, 1), (4, 2), (4, 3), (4, 4), (4, 5), (4, 6), (4, 7), (4, 8), (4, 9), (4, 10), (4, 11)]]\n(0, 0)\n(0, 1)\n(0, 2)\n(0, 3)\n(0, 4)\n(0, 5)\n(0, 6)\n(0, 7)\n(0, 8)\n(0, 9)\n(0, 10)\n(0, 11)\n(1, 0)\n(1, 1)\n(1, 2)\n(1, 3)\n(1, 4)\n(1, 5)\n(1, 6)\n(1, 7)\n(1, 8)\n(1, 9)\n(1, 10)\n(1, 11)\n(2, 0)\n(2, 1)\n(2, 2)\n(2, 3)\n(2, 4)\n(2, 5)\n(2, 6)\n(2, 7)\n(2, 8)\n(2, 9)\n(2, 10)\n(2, 11)\n(3, 0)\n(3, 1)\n(3, 2)\n(3, 3)\n(3, 4)\n(3, 5)\n(3, 6)\n(3, 7)\n(3, 8)\n(3, 9)\n(3, 10)\n(3, 11)\n(4, 0)\n(4, 1)\n(4, 2)\n(4, 3)\n(4, 4)\n(4, 5)\n(4, 6)\n(4, 7)\n(4, 8)\n(4, 9)\n(4, 10)\n(4, 11)\n"
     ]
    }
   ],
   "source": [
    "# Nested list comprehension and generators\n",
    "\n",
    "# Execute from the outside to inner-most function\n",
    "nested_lc = [[(x_1, x_2) for x_2 in range(12)] for x_1 in range(5)]\n",
    "print(nested_lc)\n",
    "\n",
    "# Similar to:\n",
    "nested_for = []\n",
    "for x_1 in range(5):\n",
    "    nested_for.append([])\n",
    "    for x_2 in range(12):\n",
    "        nested_for[x_1].append((x_1,x_2))\n",
    "print(nested_for)\n",
    "\n",
    "# Reading nested generator:\n",
    "nested_gen = (((x_1, x_2) for x_2 in range(12)) for x_1 in range(5))\n",
    "\n",
    "for genexpr in nested_gen:\n",
    "    for x in genexpr:\n",
    "        print(x)"
   ]
  },
  {
   "cell_type": "code",
   "execution_count": 34,
   "metadata": {},
   "outputs": [
    {
     "name": "stdout",
     "output_type": "stream",
     "text": [
      "0.15662808885895174\n"
     ]
    }
   ],
   "source": [
    "import timeit\n",
    "\n",
    "def check_mod_5(i):\n",
    "    if i % 5 == 0:\n",
    "        return True\n",
    "    else:\n",
    "        return False\n",
    "\n",
    "nums = range(5)\n",
    "result = [x for x in nums if check_mod_5(x)]\n",
    "\n",
    "print(timeit.timeit(\"\"\"\n",
    "def check_mod_5(i):\n",
    "    if i % 5 == 0:\n",
    "        return True\n",
    "    else:\n",
    "        return False\n",
    "\n",
    "nums = range(5)\n",
    "result = (x for x in nums if check_mod_5(x))\n",
    "\"\"\",number=100000))"
   ]
  },
  {
   "cell_type": "code",
   "execution_count": 41,
   "metadata": {},
   "outputs": [
    {
     "name": "stdout",
     "output_type": "stream",
     "text": [
      "0 0\n1 1\n2 2\n3 3\n0 left\n1 right\n2 up\n3 down\n"
     ]
    },
    {
     "data": {
      "text/plain": [
       "[None, None, None, None]"
      ]
     },
     "execution_count": 41,
     "metadata": {},
     "output_type": "execute_result"
    }
   ],
   "source": [
    "dirs = ['up', 'down', 'left', 'right']\n",
    "\n",
    "dirs_dict = dict(enumerate(dirs))\n",
    "[print(i, j) for i, j in enumerate(dirs_dict)]\n",
    "\n",
    "example = ['left','right','up','down']\n",
    "example_dict = {'left':'<','right':'>','up':'^','down':'v',}\n",
    "[print(i,j) for i,j in enumerate(example_dict)]"
   ]
  },
  {
   "cell_type": "code",
   "execution_count": 50,
   "metadata": {},
   "outputs": [
    {
     "name": "stdout",
     "output_type": "stream",
     "text": [
      "{'up': '^', 'down': 'v', 'left': '<', 'right': '>'}\n^\nBefore list comprehension b is: [1, 2, 3]\n1\n2\n3\nAfter list comprehension b is: [1, 2, 3]\nBefore for loop b is: [1, 2, 3]\n1\n2\n3\nAfter for loop b is: 3\n"
     ]
    }
   ],
   "source": [
    "dirs = ['up', 'down', 'left', 'right']\n",
    "dirs_graph = [\"^\", \"v\", \"<\", \">\"]\n",
    "\n",
    "zipped = zip(dirs, dirs_graph)\n",
    "print(dict(zipped))\n",
    "zipped = zip(dirs, dirs_graph)\n",
    "print(list(zipped)[0][1])\n",
    "\n",
    "a = [1,2,3]\n",
    "b = [1,2,3]\n",
    "\n",
    "print(\"Before list comprehension b is:\", b)\n",
    "[print(b) for b in a]\n",
    "print(\"After list comprehension b is:\", b)\n",
    "\n",
    "print(\"Before for loop b is:\", b)\n",
    "for b in a:\n",
    "    print(b)\n",
    "print(\"After for loop b is:\", b)\n",
    "\n",
    "# Summary: list comprehension variables lives only inside of it and does not interfere with other with same name\n",
    "# For loop variables overwrite those with the same name that are outside for loop"
   ]
  },
  {
   "cell_type": "code",
   "execution_count": 58,
   "metadata": {
    "collapsed": true
   },
   "outputs": [
    {
     "name": "stdout",
     "output_type": "stream",
     "text": [
      "Iterating over 2\nChanging for 4\nRaised to 2\nChanging for 6\nRaised to 2\nChanging for 8\nRaised to 2\nChanging for 10\nRaised to 2\nChanging for 12\nRaised to 2\nChanging for 14\nRaised to 2\nChanging for 16\nRaised to 2\nChanging for 18\nRaised to 2\nChanging for 20\nRaised to 2\nChanging for 22\nRaised to 2\nChanging for 24\nRaised to 2\nChanging for 26\nRaised to 2\nChanging for 28\nRaised to 2\nChanging for 30\nRaised to 2\nChanging for 32\nRaised to 2\nChanging for 34\nRaised to 2\nChanging for 36\nRaised to 2\nChanging for 38\nRaised to 2\nChanging for 40\nRaised to 2\nChanging for 42\nRaised to 2\nChanging for 44\nRaised to 2\nChanging for 46\nRaised to 2\nChanging for 48\nRaised to 2\nChanging for 50\nRaised to 2\nChanging for 52\nRaised to 2\nChanging for 54\nRaised to 2\nChanging for 56\nRaised to 2\nChanging for 58\nRaised to 2\nChanging for 60\nRaised to 2\nChanging for 62\nRaised to 2\nChanging for 64\nRaised to 2\nChanging for 66\nRaised to 2\nChanging for 68\nRaised to 2\nChanging for 70\nRaised to 2\nChanging for 72\nRaised to 2\nChanging for 74\nRaised to 2\nChanging for 76\nRaised to 2\nChanging for 78\nRaised to 2\nChanging for 80\nRaised to 2\nChanging for 82\nRaised to 2\nChanging for 84\nRaised to 2\nChanging for 86\nRaised to 2\nChanging for 88\nRaised to 2\nChanging for 90\nRaised to 2\nChanging for 92\nRaised to 2\nChanging for 94\nRaised to 2\nChanging for 96\nRaised to 2\nChanging for 98\nRaised to 2\nChanging for 100\nRaised to 2\nChanging for 102\nRaised to 2\nChanging for 104\nRaised to 2\nChanging for 106\nRaised to 2\nChanging for 108\nRaised to 2\nChanging for 110\nRaised to 2\nChanging for 112\nRaised to 2\nChanging for 114\nRaised to 2\nChanging for 116\nRaised to 2\nChanging for 118\nRaised to 2\nChanging for 120\nRaised to 2\nIterating over 3\nChanging for 6\nRaised to 3\nChanging for 9\nRaised to 3\nChanging for 12\nRaised to 3\nChanging for 15\nRaised to 3\nChanging for 18\nRaised to 3\nChanging for 21\nRaised to 3\nChanging for 24\nRaised to 3\nChanging for 27\nRaised to 3\nChanging for 30\nRaised to 3\nChanging for 33\nRaised to 3\nChanging for 36\nRaised to 3\nChanging for 39\nRaised to 3\nChanging for 42\nRaised to 3\nChanging for 45\nRaised to 3\nChanging for 48\nRaised to 3\nChanging for 51\nRaised to 3\nChanging for 54\nRaised to 3\nChanging for 57\nRaised to 3\nChanging for 60\nRaised to 3\nChanging for 63\nRaised to 3\nChanging for 66\nRaised to 3\nChanging for 69\nRaised to 3\nChanging for 72\nRaised to 3\nChanging for 75\nRaised to 3\nChanging for 78\nRaised to 3\nChanging for 81\nRaised to 3\nChanging for 84\nRaised to 3\nChanging for 87\nRaised to 3\nChanging for 90\nRaised to 3\nChanging for 93\nRaised to 3\nChanging for 96\nRaised to 3\nChanging for 99\nRaised to 3\nChanging for 102\nRaised to 3\nChanging for 105\nRaised to 3\nChanging for 108\nRaised to 3\nChanging for 111\nRaised to 3\nChanging for 114\nRaised to 3\nChanging for 117\nRaised to 3\nChanging for 120\nRaised to 3\nIterating over 5\nChanging for 10\nRaised to 5\nChanging for 15\nRaised to 5\nChanging for 20\nRaised to 5\nChanging for 25\nRaised to 5\nChanging for 30\nRaised to 5\nChanging for 35\nRaised to 5\nChanging for 40\nRaised to 5\nChanging for 45\nRaised to 5\nChanging for 50\nRaised to 5\nChanging for 55\nRaised to 5\nChanging for 60\nRaised to 5\nChanging for 65\nRaised to 5\nChanging for 70\nRaised to 5\nChanging for 75\nRaised to 5\nChanging for 80\nRaised to 5\nChanging for 85\nRaised to 5\nChanging for 90\nRaised to 5\nChanging for 95\nRaised to 5\nChanging for 100\nRaised to 5\nChanging for 105\nRaised to 5\nChanging for 110\nRaised to 5\nChanging for 115\nRaised to 5\nChanging for 120\nRaised to 5\nIterating over 7\nChanging for 14\nRaised to 7\nChanging for 21\nRaised to 7\nChanging for 28\nRaised to 7\nChanging for 35\nRaised to 7\nChanging for 42\nRaised to 7\nChanging for 49\nRaised to 7\nChanging for 56\nRaised to 7\nChanging for 63\nRaised to 7\nChanging for 70\nRaised to 7\nChanging for 77\nRaised to 7\nChanging for 84\nRaised to 7\nChanging for 91\nRaised to 7\nChanging for 98\nRaised to 7\nChanging for 105\nRaised to 7\nChanging for 112\nRaised to 7\nChanging for 119\nRaised to 7\nIterating over 11\nChanging for 22\nRaised to 11\nChanging for 33\nRaised to 11\nChanging for 44\nRaised to 11\nChanging for 55\nRaised to 11\nChanging for 66\nRaised to 11\nChanging for 77\nRaised to 11\nChanging for 88\nRaised to 11\nChanging for 99\nRaised to 11\nChanging for 110\nRaised to 11\n{0: True, 1: True, 2: True, 3: True, 4: False, 5: True, 6: False, 7: True, 8: False, 9: False, 10: False, 11: True, 12: False, 13: True, 14: False, 15: False, 16: False, 17: True, 18: False, 19: True, 20: False, 21: False, 22: False, 23: True, 24: False, 25: False, 26: False, 27: False, 28: False, 29: True, 30: False, 31: True, 32: False, 33: False, 34: False, 35: False, 36: False, 37: True, 38: False, 39: False, 40: False, 41: True, 42: False, 43: True, 44: False, 45: False, 46: False, 47: True, 48: False, 49: False, 50: False, 51: False, 52: False, 53: True, 54: False, 55: False, 56: False, 57: False, 58: False, 59: True, 60: False, 61: True, 62: False, 63: False, 64: False, 65: False, 66: False, 67: True, 68: False, 69: False, 70: False, 71: True, 72: False, 73: True, 74: False, 75: False, 76: False, 77: False, 78: False, 79: True, 80: False, 81: False, 82: False, 83: True, 84: False, 85: False, 86: False, 87: False, 88: False, 89: True, 90: False, 91: False, 92: False, 93: False, 94: False, 95: False, 96: False, 97: True, 98: False, 99: False, 100: False, 101: True, 102: False, 103: True, 104: False, 105: False, 106: False, 107: True, 108: False, 109: True, 110: False, 111: False, 112: False, 113: True, 114: False, 115: False, 116: False, 117: False, 118: False, 119: False, 120: False}\n"
     ]
    }
   ],
   "source": [
    "# Creating own generator\\\n",
    "import math\n",
    "end = 120\n",
    "\n",
    "\n",
    "def find_primes(end):\n",
    "    my_dict = {}\n",
    "    [my_dict.setdefault(x, True) for x in range(end)]\n",
    "    to_check = [x for x in range(2,int(round(math.sqrt(end), 0))+1,1)]\n",
    "    for checker in to_check:\n",
    "        if my_dict[checker]:\n",
    "            counter = checker * 2\n",
    "            while counter <= end:\n",
    "                my_dict[counter] = False\n",
    "                counter += checker\n",
    "    print(my_dict)\n",
    "\n",
    "\n",
    "find_primes(end=end)"
   ]
  },
  {
   "cell_type": "code",
   "execution_count": 61,
   "metadata": {},
   "outputs": [
    {
     "name": "stdout",
     "output_type": "stream",
     "text": [
      "dict_keys([0, 1, 2, 3, 5, 7, 11, 13, 17, 19, 23, 29, 31, 37, 41, 43, 47, 53, 59, 61, 67, 71, 73, 79, 83, 89, 97, 101, 103, 107, 109, 113])\n"
     ]
    }
   ],
   "source": [
    "import math\n",
    "end = 120\n",
    "\n",
    "\n",
    "def find_primes(end):\n",
    "    my_dict = {}\n",
    "    [my_dict.setdefault(x, True) for x in range(end)]\n",
    "    to_check = [x for x in range(2,int(round(math.sqrt(end), 0))+1,1)]\n",
    "    deleted = []\n",
    "    for checker in to_check:\n",
    "        if checker not in deleted:\n",
    "            counter = checker * 2\n",
    "            while counter <= end:\n",
    "                try:\n",
    "                    my_dict.pop(counter)\n",
    "                    deleted.append(counter)\n",
    "                    counter += checker\n",
    "                except:\n",
    "                    counter += checker\n",
    "    print(my_dict.keys())\n",
    "\n",
    "\n",
    "find_primes(end=end)"
   ]
  },
  {
   "cell_type": "code",
   "execution_count": 72,
   "metadata": {},
   "outputs": [
    {
     "name": "stdout",
     "output_type": "stream",
     "text": [
      "(2, 4, 6, 7)\n(2, 4, 6, 7)\n0.0013419781007542042\n"
     ]
    }
   ],
   "source": [
    "correct_pin = (2,4,6,7)\n",
    "# correct_pin = (1,1,2,9)\n",
    "\n",
    "def pin_gen():\n",
    "    for a in range(10):\n",
    "        for b in range(10):\n",
    "            for c in range(10):\n",
    "                for d in range(10):\n",
    "                        yield (a,b,c,d)\n",
    "                        \n",
    "for pin_combination in pin_gen():\n",
    "    # print(pin_combination)\n",
    "    if pin_combination == correct_pin:\n",
    "        print(pin_combination)\n",
    "        break\n",
    "    else:\n",
    "        continue\n",
    "        \n",
    "print(timeit.timeit(\"\"\"\n",
    "correct_pin = (2,4,6,7)\n",
    "\n",
    "def pin_gen():\n",
    "    for a in range(10):\n",
    "        for b in range(10):\n",
    "            for c in range(10):\n",
    "                for d in range(10):\n",
    "                        yield (a,b,c,d)\n",
    "                        \n",
    "for pin_combination in pin_gen():\n",
    "    if pin_combination == correct_pin:\n",
    "        print(pin_combination)\n",
    "        break\n",
    "    else:\n",
    "        continue\n",
    "        \n",
    "        \n",
    "        \"\"\",number=1))"
   ]
  },
  {
   "cell_type": "code",
   "execution_count": null,
   "metadata": {},
   "outputs": [],
   "source": [
    "# Multiprocessing\n",
    "import multiprocessing\n",
    "\n",
    "\n",
    "def spawn(arg_1, arg_2):\n",
    "    print(\"Process spawned\", arg_1, arg_2)\n",
    "\n",
    "if __name__ == '__main__':\n",
    "    for i in range(10):\n",
    "        p = multiprocessing.Process(target=spawn, args=(i,i*2))\n",
    "        p.start()\n",
    "        # p.join()\n",
    "    \n"
   ]
  },
  {
   "cell_type": "code",
   "execution_count": null,
   "metadata": {},
   "outputs": [],
   "source": [
    "from multiprocessing import Pool\n",
    "\n",
    "def worker(i):\n",
    "    return i*2\n",
    "\n",
    "\n",
    "if __name__ == \"__main__\":\n",
    "    p = Pool(20)\n",
    "    returned_data = p.map(worker, range(20))\n",
    "    print(returned_data)"
   ]
  },
  {
   "cell_type": "code",
   "execution_count": 3,
   "metadata": {},
   "outputs": [
    {
     "name": "stdout",
     "output_type": "stream",
     "text": [
      "test\n"
     ]
    }
   ],
   "source": [
    "from multiprocessing import Pool\n",
    "import bs4 as bs\n",
    "import random\n",
    "import requests\n",
    "import string\n",
    "\n",
    "\n",
    "def starting_url():\n",
    "    # Format http://XYZ.com\n",
    "    middle = ''.join(random.SystemRandom().choice(string.ascii_lowercase) for x in range(3))\n",
    "    generated_url = ''.join((\"http://\", middle, \".com\"))\n",
    "    return generated_url\n",
    "\n",
    "def handle_local_links(home_url, link):\n",
    "    # Local links lacks the complete domain name and thus they need to be parsed\n",
    "    if link.startswith('/'):\n",
    "        return ''.join((home_url, link))\n",
    "    # Otherwise just return complete URL without changing it\n",
    "    else:\n",
    "        return home_url\n",
    "\n",
    "def get_urls(node):\n",
    "    try:\n",
    "        response = requests.get(node)\n",
    "        soup = bs.BeautifulSoup(response.text, 'lxml')\n",
    "        body = soup.body\n",
    "        links = [x.get('href') for x in body.find_all('a')]\n",
    "        links = [handle_local_links(node, link) for link in links]\n",
    "        links = [str(link.encode('ascii')) for link in links]\n",
    "        return links\n",
    "        \n",
    "    except Exception as e:\n",
    "        print(str(e))\n",
    "        return []\n",
    "\n",
    "def main():\n",
    "    processes = 50\n",
    "    p = Pool(processes=processes)\n",
    "    # Prepare starting urls\n",
    "    starting_urls = [starting_url() for _ in range(processes)]\n",
    "    data = p.map(get_urls, [link for link in starting_urls])\n",
    "    # data = [url for url_list in data for url in url_list]\n",
    "    p.close()\n",
    "    \n",
    "    with open('urls.txt', 'w') as f:\n",
    "        f.write(str(data))\n",
    "        \n",
    "if __name__  == '__main__':\n",
    "    main()\n"
   ]
  },
  {
   "cell_type": "code",
   "execution_count": 6,
   "metadata": {},
   "outputs": [],
   "source": [
    "import random\n",
    "import time\n",
    "import logging\n",
    "from functools import wraps"
   ]
  },
  {
   "cell_type": "code",
   "execution_count": 3,
   "metadata": {},
   "outputs": [
    {
     "name": "stdout",
     "output_type": "stream",
     "text": [
      "Creating dict of blobs, with id from 0 to n\nObject of height 9 and width 1\nRepr of colored_blob:  Object of height 3 and width 3 , color of it:  red\nObject of height 1 and width 7\n"
     ]
    }
   ],
   "source": [
    "class Blob:\n",
    "\n",
    "    def __init__(self, width, height):\n",
    "        self.width = width\n",
    "        self.height = height\n",
    "\n",
    "    def change_params(self):\n",
    "        self.width = random.randint(1, 10)\n",
    "        self.height = random.randint(1, 10)\n",
    "\n",
    "    def __repr__(self):\n",
    "        return \"Object of height {} and width {}\".format(self.height, self.width)\n",
    "\n",
    "\n",
    "class BlobColor(Blob):\n",
    "\n",
    "    def __init__(self, color, width, height):\n",
    "        super().__init__(width, height)\n",
    "        self.color = color\n",
    "\n",
    "\n",
    "print(\"Creating dict of blobs, with id from 0 to n\")\n",
    "blob_dict = dict(enumerate([Blob(2,2) for x in range(10)]))\n",
    "blob_dict[2].change_params()\n",
    "print(blob_dict[2])\n",
    "\n",
    "colored_blob = BlobColor('red', 3, 3)\n",
    "print('Repr of colored_blob: ', colored_blob, ', color of it: ', colored_blob.color)\n",
    "colored_blob.change_params()\n",
    "print(colored_blob)\n"
   ]
  },
  {
   "cell_type": "code",
   "execution_count": 24,
   "metadata": {},
   "outputs": [
    {
     "name": "stdout",
     "output_type": "stream",
     "text": [
      "Value in foo: 5, value in bar: 10\n"
     ]
    }
   ],
   "source": [
    "class Foo:\n",
    "    def __init__(self):\n",
    "        self.value = 2\n",
    "        \n",
    "    def __add__(self, other):\n",
    "        self.value += other.value\n",
    "        other.value = 10\n",
    "        \n",
    "        \n",
    "class Bar:\n",
    "    def __init__(self):\n",
    "        self.value = 3\n",
    "        \n",
    "\n",
    "foo = Foo()\n",
    "bar = Bar()\n",
    "foo + bar\n",
    "\n",
    "print(\"Value in foo: {}, value in bar: {}\".format(foo.value, bar.value))"
   ]
  },
  {
   "cell_type": "code",
   "execution_count": 46,
   "metadata": {},
   "outputs": [
    {
     "name": "stdout",
     "output_type": "stream",
     "text": [
      "Str, Foobar object\n"
     ]
    },
    {
     "data": {
      "text/plain": [
       "'Repr, Foobar object'"
      ]
     },
     "execution_count": 46,
     "metadata": {},
     "output_type": "execute_result"
    }
   ],
   "source": [
    "class Foobar:\n",
    "    def __init__(self):\n",
    "        self.value = 2\n",
    "        \n",
    "    def __add__(self, other):\n",
    "        self.value += other.value\n",
    "        other.value = 10\n",
    "        \n",
    "    def __repr__(self):\n",
    "        return \"Repr, Foobar object\"\n",
    "    \n",
    "    def __str__(self):\n",
    "        return \"Str, Foobar object\"\n",
    "    \n",
    "\n",
    "my_object = Foobar()\n",
    "\n",
    "# Different ways to call str method\n",
    "print(my_object)\n",
    "str(my_object)\n",
    "my_object.__str__()\n",
    "\n",
    "# Different ways to call repr method\n",
    "my_object\n",
    "repr(my_object)\n",
    "my_object.__repr__()\n",
    "\n",
    "# Repr method shall be shorter representation of object"
   ]
  },
  {
   "cell_type": "code",
   "execution_count": 17,
   "metadata": {},
   "outputs": [
    {
     "name": "stdout",
     "output_type": "stream",
     "text": [
      "Additional from the wrapped function\n\"Display\" function ran\nAdditional from the wrapped function\nAdditional from the wrapped function\nEquivalent\n"
     ]
    }
   ],
   "source": [
    "# Simple decorator function\n",
    "def decorator_function(original_function):\n",
    "    # Wraps allows to preserve original function name (in this case \"display\")\n",
    "    @wraps(original_function)\n",
    "    # Adding *args and **kwargs allow for multiple usage of decorator\n",
    "    def wrapped_function(*args, **kwargs):\n",
    "        print(\"Additional from the wrapped function\")\n",
    "        return original_function(*args, **kwargs)\n",
    "    return wrapped_function\n",
    "\n",
    "\n",
    "@decorator_function\n",
    "def display(msg):\n",
    "    print(msg)\n",
    "\n",
    "\n",
    "display(\"\\\"Display\\\" function ran\")\n",
    "\n",
    "# It equals to:\n",
    "decorated = decorator_function(display)\n",
    "decorated(\"Equivalent\")\n"
   ]
  },
  {
   "cell_type": "code",
   "execution_count": 14,
   "metadata": {},
   "outputs": [
    {
     "name": "stdout",
     "output_type": "stream",
     "text": [
      "Message passed to the function:  just testing\nResult variable is:  0\n"
     ]
    },
    {
     "name": "stdout",
     "output_type": "stream",
     "text": [
      "Time taken to execute:  1.0045173168182373\nResult_outside is:  0\nMessage passed to the function:  simple message\nResult variable is:  0\n"
     ]
    },
    {
     "name": "stdout",
     "output_type": "stream",
     "text": [
      "Time taken to execute:  1.00242280960083\nResult variable is:  0\n"
     ]
    },
    {
     "name": "stdout",
     "output_type": "stream",
     "text": [
      "Time taken to execute:  2.002855062484741\nResult_outside_2 is:  0\n"
     ]
    }
   ],
   "source": [
    "# Decorator for quick time logging\n",
    "\n",
    "\n",
    "def timer(original_func):\n",
    "    @wraps(original_func)\n",
    "    def wrapped_function(*args, **kwargs):\n",
    "        start = time.time()\n",
    "        result = original_func(*args, **kwargs)\n",
    "        print('Result variable is: ', result)\n",
    "        time.sleep(1)\n",
    "        end = time.time()\n",
    "        print(\"Time taken to execute: \", (end-start))\n",
    "        return result\n",
    "    return wrapped_function\n",
    "\n",
    "\n",
    "@timer\n",
    "def display(msg):\n",
    "    print(\"Message passed to the function: \", msg)\n",
    "    return 0\n",
    "    \n",
    "\n",
    "result_outside = display(msg=\"just testing\")\n",
    "print(\"Result_outside is: \", result_outside)\n",
    "\n",
    "# Similar to:\n",
    "wrapped = timer(display)\n",
    "result_outside_2 = wrapped(msg='simple message')\n",
    "print(\"Result_outside_2 is: \", result_outside_2)\n"
   ]
  },
  {
   "cell_type": "code",
   "execution_count": 28,
   "metadata": {},
   "outputs": [
    {
     "name": "stdout",
     "output_type": "stream",
     "text": [
      "Runned before function display\nMessage passed to display function\n"
     ]
    }
   ],
   "source": [
    "# Object as a decorator\n",
    "\n",
    "\n",
    "class Decorator(object):\n",
    "    \n",
    "    def __init__(self, original_function):\n",
    "        self.original_function = original_function\n",
    "        \n",
    "    def __call__(self, *args, **kwargs):\n",
    "        print(\"Runned before function {}\".format(self.original_function.__name__))\n",
    "        return self.original_function(*args, **kwargs)\n",
    "\n",
    "\n",
    "@Decorator\n",
    "def display(msg):\n",
    "    print(msg)\n",
    "\n",
    "display(msg=\"Message passed to display function\")"
   ]
  },
  {
   "cell_type": "code",
   "execution_count": 40,
   "metadata": {},
   "outputs": [],
   "source": [
    "# Setting up logging\n",
    "import logging\n",
    "logging.basicConfig(level=logging.INFO, filename='logging_2.log')"
   ]
  },
  {
   "cell_type": "code",
   "execution_count": 42,
   "metadata": {},
   "outputs": [
    {
     "name": "stdout",
     "output_type": "stream",
     "text": [
      "Your message is:  Just testing\n"
     ]
    }
   ],
   "source": [
    "# logging decorator\n",
    "def log(original_func):\n",
    "    import logging\n",
    "    logging.basicConfig(level=logging.INFO, filename='logging_2.log')\n",
    "    \n",
    "    @wraps(original_func)\n",
    "    def wrapper(*args, **kwargs):\n",
    "        logging.info(\"Display function passed with args: {} and kwargs: {}\".format(args, kwargs))\n",
    "        return original_func(*args, **kwargs)\n",
    "    return wrapper\n",
    "\n",
    "\n",
    "@log\n",
    "def display(msg):\n",
    "    print(\"Your message is: \", msg)\n",
    "\n",
    "\n",
    "display(msg=\"Just testing\")"
   ]
  },
  {
   "cell_type": "code",
   "execution_count": 45,
   "metadata": {},
   "outputs": [
    {
     "name": "stdout",
     "output_type": "stream",
     "text": [
      "Error <class 'NameError'>: name 'a' is not defined, in line 9\n"
     ]
    }
   ],
   "source": [
    "# Handling errors with sys\n",
    "import sys\n",
    "\n",
    "\n",
    "def error_handler():\n",
    "    print(\"Error {}: {}, in line {}\".format(sys.exc_info()[0], sys.exc_info()[1], sys.exc_info()[2].tb_lineno))\n",
    "    \n",
    "try:\n",
    "    a+b\n",
    "except:\n",
    "    error_handler()"
   ]
  },
  {
   "cell_type": "code",
   "execution_count": 49,
   "metadata": {},
   "outputs": [
    {
     "name": "stdout",
     "output_type": "stream",
     "text": [
      "Just testing\nType of args is:  <class 'tuple'>\n1\n2\n3\nType of kwargs is:  <class 'dict'>\nname my_name\nage 20\n"
     ]
    }
   ],
   "source": [
    "def print_params(title, *args, **kwargs):\n",
    "    print(title)\n",
    "    \n",
    "    print(\"Type of args is: \", type(args))\n",
    "    for arg in args:\n",
    "        print(arg)\n",
    "        \n",
    "    print(\"Type of kwargs is: \", type(kwargs))\n",
    "    for item, definition in kwargs.items():\n",
    "        print(item, definition)\n",
    "        \n",
    "print_params(\"Just testing\", 1,2,3, name=\"my_name\", age=20)\n",
    "        "
   ]
  },
  {
   "cell_type": "code",
   "execution_count": 50,
   "metadata": {},
   "outputs": [
    {
     "name": "stdout",
     "output_type": "stream",
     "text": [
      "10 20\n"
     ]
    }
   ],
   "source": [
    "def print_xy(x,y):\n",
    "    print(x,y)\n",
    "    \n",
    "    \n",
    "x = 10\n",
    "y = 20\n",
    "xy_list = [x, y]\n",
    "\n",
    "print_xy(*xy_list)"
   ]
  }
 ],
 "metadata": {
  "kernelspec": {
   "display_name": "Python 2",
   "language": "python",
   "name": "python2"
  },
  "language_info": {
   "codemirror_mode": {
    "name": "ipython",
    "version": 2
   },
   "file_extension": ".py",
   "mimetype": "text/x-python",
   "name": "python",
   "nbconvert_exporter": "python",
   "pygments_lexer": "ipython2",
   "version": "2.7.6"
  }
 },
 "nbformat": 4,
 "nbformat_minor": 0
}
